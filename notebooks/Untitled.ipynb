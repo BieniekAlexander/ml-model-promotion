{
 "cells": [
  {
   "cell_type": "markdown",
   "metadata": {},
   "source": [
    "# Setup"
   ]
  },
  {
   "cell_type": "code",
   "execution_count": 50,
   "metadata": {},
   "outputs": [],
   "source": [
    "# imports\n",
    "import pandas as pd\n",
    "import numpy as np\n",
    "import data_describe as dd\n",
    "from xgboost import XGBClassifier\n",
    "from sklearn.model_selection import train_test_split\n",
    "from sklearn.metrics import accuracy_score\n",
    "from sklearn.preprocessing import OneHotEncoder"
   ]
  },
  {
   "cell_type": "markdown",
   "metadata": {},
   "source": [
    "## Prepare Data"
   ]
  },
  {
   "cell_type": "code",
   "execution_count": 82,
   "metadata": {
    "scrolled": true
   },
   "outputs": [
    {
     "name": "stderr",
     "output_type": "stream",
     "text": [
      "/tmp/ipykernel_22164/2196195021.py:4: FutureWarning:\n",
      "\n",
      "The default value of regex will change from True to False in a future version. In addition, single character regular expressions will *not* be treated as literal strings when regex=True.\n",
      "\n",
      "/tmp/ipykernel_22164/2196195021.py:4: FutureWarning:\n",
      "\n",
      "The default value of regex will change from True to False in a future version. In addition, single character regular expressions will *not* be treated as literal strings when regex=True.\n",
      "\n"
     ]
    }
   ],
   "source": [
    "# prepare data\n",
    "def preprocess(df):\n",
    "    # clean prediction feature, make binary\n",
    "    df['income'] = df['income'].str.replace('.', '')\n",
    "    assert set(df['income']) == set([\">50K\", \"<=50K\"])\n",
    "    \n",
    "    df['income_gt_50k'] = (df['income']==\">50K\")\n",
    "    df = df.drop(['income'], axis='columns')\n",
    "\n",
    "    # onehot encode remaining categorical variables\n",
    "    cat_cols = list(set(df.columns) - set(df._get_numeric_data().columns))\n",
    "    df = pd.get_dummies(df, columns=cat_cols, dtype=\"int64\")\n",
    "    df['income_gt_50k'] = df['income_gt_50k'].astype(int)\n",
    "\n",
    "    return df\n",
    "\n",
    "\n",
    "train_data = pd.read_csv('../data/census_income_census_income_data_adult.data', skipinitialspace=True, comment=\"|\")\n",
    "test_data = pd.read_csv('../data/census_income_census_income_data_adult.test', skipinitialspace=True, comment=\"|\")\n",
    "\n",
    "train_data = preprocess(train_data)\n",
    "test_data = preprocess(test_data)\n",
    "\n",
    "cols = train_data.columns\n",
    "train_features = list(set(cols) - set([\"income_gt_50k\"]))\n",
    "X_train, y_train = train_data.loc[:, train_data.columns.isin(train_features)], np.array(train_data[\"income_gt_50k\"])\n",
    "X_test, y_test = test_data.loc[:, test_data.columns.isin(train_features)], np.array(test_data[\"income_gt_50k\"])\n",
    "\n",
    "for dummy_col in list(set(train_features) - set(X_test.columns)):\n",
    "    X_test[dummy_col] = 0"
   ]
  },
  {
   "cell_type": "markdown",
   "metadata": {},
   "source": [
    "# EDA"
   ]
  },
  {
   "cell_type": "code",
   "execution_count": 75,
   "metadata": {
    "scrolled": true
   },
   "outputs": [
    {
     "data": {
      "text/plain": [
       "['age',\n",
       " 'fnlwgt',\n",
       " 'education-num',\n",
       " 'capital-gain',\n",
       " 'capital-loss',\n",
       " 'hours-per-week',\n",
       " 'sex_Female',\n",
       " 'sex_Male',\n",
       " 'native-country_?',\n",
       " 'native-country_Cambodia',\n",
       " 'native-country_Canada',\n",
       " 'native-country_China',\n",
       " 'native-country_Columbia',\n",
       " 'native-country_Cuba',\n",
       " 'native-country_Dominican-Republic',\n",
       " 'native-country_Ecuador',\n",
       " 'native-country_El-Salvador',\n",
       " 'native-country_England',\n",
       " 'native-country_France',\n",
       " 'native-country_Germany',\n",
       " 'native-country_Greece',\n",
       " 'native-country_Guatemala',\n",
       " 'native-country_Haiti',\n",
       " 'native-country_Holand-Netherlands',\n",
       " 'native-country_Honduras',\n",
       " 'native-country_Hong',\n",
       " 'native-country_Hungary',\n",
       " 'native-country_India',\n",
       " 'native-country_Iran',\n",
       " 'native-country_Ireland',\n",
       " 'native-country_Italy',\n",
       " 'native-country_Jamaica',\n",
       " 'native-country_Japan',\n",
       " 'native-country_Laos',\n",
       " 'native-country_Mexico',\n",
       " 'native-country_Nicaragua',\n",
       " 'native-country_Outlying-US(Guam-USVI-etc)',\n",
       " 'native-country_Peru',\n",
       " 'native-country_Philippines',\n",
       " 'native-country_Poland',\n",
       " 'native-country_Portugal',\n",
       " 'native-country_Puerto-Rico',\n",
       " 'native-country_Scotland',\n",
       " 'native-country_South',\n",
       " 'native-country_Taiwan',\n",
       " 'native-country_Thailand',\n",
       " 'native-country_Trinadad&Tobago',\n",
       " 'native-country_United-States',\n",
       " 'native-country_Vietnam',\n",
       " 'native-country_Yugoslavia',\n",
       " 'marital-status_Divorced',\n",
       " 'marital-status_Married-AF-spouse',\n",
       " 'marital-status_Married-civ-spouse',\n",
       " 'marital-status_Married-spouse-absent',\n",
       " 'marital-status_Never-married',\n",
       " 'marital-status_Separated',\n",
       " 'marital-status_Widowed',\n",
       " 'workclass_?',\n",
       " 'workclass_Federal-gov',\n",
       " 'workclass_Local-gov',\n",
       " 'workclass_Never-worked',\n",
       " 'workclass_Private',\n",
       " 'workclass_Self-emp-inc',\n",
       " 'workclass_Self-emp-not-inc',\n",
       " 'workclass_State-gov',\n",
       " 'workclass_Without-pay',\n",
       " 'education_10th',\n",
       " 'education_11th',\n",
       " 'education_12th',\n",
       " 'education_1st-4th',\n",
       " 'education_5th-6th',\n",
       " 'education_7th-8th',\n",
       " 'education_9th',\n",
       " 'education_Assoc-acdm',\n",
       " 'education_Assoc-voc',\n",
       " 'education_Bachelors',\n",
       " 'education_Doctorate',\n",
       " 'education_HS-grad',\n",
       " 'education_Masters',\n",
       " 'education_Preschool',\n",
       " 'education_Prof-school',\n",
       " 'education_Some-college',\n",
       " 'income_<=50K',\n",
       " 'income_>50K',\n",
       " 'occupation_?',\n",
       " 'occupation_Adm-clerical',\n",
       " 'occupation_Armed-Forces',\n",
       " 'occupation_Craft-repair',\n",
       " 'occupation_Exec-managerial',\n",
       " 'occupation_Farming-fishing',\n",
       " 'occupation_Handlers-cleaners',\n",
       " 'occupation_Machine-op-inspct',\n",
       " 'occupation_Other-service',\n",
       " 'occupation_Priv-house-serv',\n",
       " 'occupation_Prof-specialty',\n",
       " 'occupation_Protective-serv',\n",
       " 'occupation_Sales',\n",
       " 'occupation_Tech-support',\n",
       " 'occupation_Transport-moving',\n",
       " 'race_Amer-Indian-Eskimo',\n",
       " 'race_Asian-Pac-Islander',\n",
       " 'race_Black',\n",
       " 'race_Other',\n",
       " 'race_White',\n",
       " 'relationship_Husband',\n",
       " 'relationship_Not-in-family',\n",
       " 'relationship_Other-relative',\n",
       " 'relationship_Own-child',\n",
       " 'relationship_Unmarried',\n",
       " 'relationship_Wife']"
      ]
     },
     "execution_count": 75,
     "metadata": {},
     "output_type": "execute_result"
    }
   ],
   "source": [
    "list(X_train.columns)"
   ]
  },
  {
   "cell_type": "code",
   "execution_count": 45,
   "metadata": {
    "scrolled": true
   },
   "outputs": [
    {
     "name": "stdout",
     "output_type": "stream",
     "text": [
      "income_gt_50k\n",
      "0                24720\n",
      "1                 7841\n",
      "dtype: int64\n",
      "income_gt_50k\n",
      "0                12435\n",
      "1                 3846\n",
      "dtype: int64\n",
      "       age  fnlwgt  education-num  capital-gain  capital-loss  hours-per-week  \\\n",
      "0       39   77516             13          2174             0              40   \n",
      "1       50   83311             13             0             0              13   \n",
      "2       38  215646              9             0             0              40   \n",
      "3       53  234721              7             0             0              40   \n",
      "4       28  338409             13             0             0              40   \n",
      "...    ...     ...            ...           ...           ...             ...   \n",
      "32556   27  257302             12             0             0              38   \n",
      "32557   40  154374              9             0             0              40   \n",
      "32558   58  151910              9             0             0              40   \n",
      "32559   22  201490              9             0             0              20   \n",
      "32560   52  287927              9         15024             0              40   \n",
      "\n",
      "       sex_Female  sex_Male  native-country_?  native-country_Cambodia  ...  \\\n",
      "0               0         1                 0                        0  ...   \n",
      "1               0         1                 0                        0  ...   \n",
      "2               0         1                 0                        0  ...   \n",
      "3               0         1                 0                        0  ...   \n",
      "4               1         0                 0                        0  ...   \n",
      "...           ...       ...               ...                      ...  ...   \n",
      "32556           1         0                 0                        0  ...   \n",
      "32557           0         1                 0                        0  ...   \n",
      "32558           1         0                 0                        0  ...   \n",
      "32559           0         1                 0                        0  ...   \n",
      "32560           1         0                 0                        0  ...   \n",
      "\n",
      "       race_Asian-Pac-Islander  race_Black  race_Other  race_White  \\\n",
      "0                            0           0           0           1   \n",
      "1                            0           0           0           1   \n",
      "2                            0           0           0           1   \n",
      "3                            0           1           0           0   \n",
      "4                            0           1           0           0   \n",
      "...                        ...         ...         ...         ...   \n",
      "32556                        0           0           0           1   \n",
      "32557                        0           0           0           1   \n",
      "32558                        0           0           0           1   \n",
      "32559                        0           0           0           1   \n",
      "32560                        0           0           0           1   \n",
      "\n",
      "       relationship_Husband  relationship_Not-in-family  \\\n",
      "0                         0                           1   \n",
      "1                         1                           0   \n",
      "2                         0                           1   \n",
      "3                         1                           0   \n",
      "4                         0                           0   \n",
      "...                     ...                         ...   \n",
      "32556                     0                           0   \n",
      "32557                     1                           0   \n",
      "32558                     0                           0   \n",
      "32559                     0                           0   \n",
      "32560                     0                           0   \n",
      "\n",
      "       relationship_Other-relative  relationship_Own-child  \\\n",
      "0                                0                       0   \n",
      "1                                0                       0   \n",
      "2                                0                       0   \n",
      "3                                0                       0   \n",
      "4                                0                       0   \n",
      "...                            ...                     ...   \n",
      "32556                            0                       0   \n",
      "32557                            0                       0   \n",
      "32558                            0                       0   \n",
      "32559                            0                       1   \n",
      "32560                            0                       0   \n",
      "\n",
      "       relationship_Unmarried  relationship_Wife  \n",
      "0                           0                  0  \n",
      "1                           0                  0  \n",
      "2                           0                  0  \n",
      "3                           0                  0  \n",
      "4                           0                  1  \n",
      "...                       ...                ...  \n",
      "32556                       0                  1  \n",
      "32557                       0                  0  \n",
      "32558                       1                  0  \n",
      "32559                       0                  0  \n",
      "32560                       0                  1  \n",
      "\n",
      "[32561 rows x 110 columns]\n"
     ]
    }
   ],
   "source": [
    "print(y_train.value_counts())\n",
    "print(y_test.value_counts())\n",
    "print(X_train)"
   ]
  },
  {
   "cell_type": "markdown",
   "metadata": {},
   "source": [
    "# Modeling"
   ]
  },
  {
   "cell_type": "code",
   "execution_count": 83,
   "metadata": {},
   "outputs": [
    {
     "name": "stderr",
     "output_type": "stream",
     "text": [
      "/home/alex/Software/anaconda3/envs/model-promotion/lib/python3.9/site-packages/xgboost/sklearn.py:1224: UserWarning:\n",
      "\n",
      "The use of label encoder in XGBClassifier is deprecated and will be removed in a future release. To remove this warning, do the following: 1) Pass option use_label_encoder=False when constructing XGBClassifier object; and 2) Encode your labels (y) as integers starting with 0, i.e. 0, 1, 2, ..., [num_class - 1].\n",
      "\n",
      "/home/alex/Software/anaconda3/envs/model-promotion/lib/python3.9/site-packages/xgboost/data.py:262: FutureWarning:\n",
      "\n",
      "pandas.Int64Index is deprecated and will be removed from pandas in a future version. Use pandas.Index with the appropriate dtype instead.\n",
      "\n"
     ]
    },
    {
     "name": "stdout",
     "output_type": "stream",
     "text": [
      "[23:24:36] WARNING: ../src/learner.cc:1115: Starting in XGBoost 1.3.0, the default evaluation metric used with the objective 'binary:logistic' was changed from 'error' to 'logloss'. Explicitly set eval_metric if you'd like to restore the old behavior.\n"
     ]
    },
    {
     "data": {
      "text/plain": [
       "XGBClassifier(base_score=0.5, booster='gbtree', colsample_bylevel=1,\n",
       "              colsample_bynode=1, colsample_bytree=1, enable_categorical=False,\n",
       "              gamma=0, gpu_id=-1, importance_type=None,\n",
       "              interaction_constraints='', learning_rate=0.300000012,\n",
       "              max_delta_step=0, max_depth=6, min_child_weight=1, missing=nan,\n",
       "              monotone_constraints='()', n_estimators=100, n_jobs=8,\n",
       "              num_parallel_tree=1, predictor='auto', random_state=0,\n",
       "              reg_alpha=0, reg_lambda=1, scale_pos_weight=1, subsample=1,\n",
       "              tree_method='exact', validate_parameters=1, verbosity=None)"
      ]
     },
     "execution_count": 83,
     "metadata": {},
     "output_type": "execute_result"
    }
   ],
   "source": [
    "model = XGBClassifier()\n",
    "model.fit(X_train, y_train)\n",
    "# TODO do cross-validation"
   ]
  },
  {
   "cell_type": "markdown",
   "metadata": {},
   "source": [
    "# Evaluation"
   ]
  },
  {
   "cell_type": "code",
   "execution_count": 84,
   "metadata": {},
   "outputs": [
    {
     "data": {
      "text/plain": [
       "0.8260549106320251"
      ]
     },
     "execution_count": 84,
     "metadata": {},
     "output_type": "execute_result"
    }
   ],
   "source": [
    "model.score(X_test, y_test)"
   ]
  },
  {
   "cell_type": "markdown",
   "metadata": {},
   "source": [
    "# Serializing"
   ]
  },
  {
   "cell_type": "code",
   "execution_count": null,
   "metadata": {},
   "outputs": [],
   "source": []
  }
 ],
 "metadata": {
  "editorConfig": {
   "insertSpaces": false
  },
  "interpreter": {
   "hash": "588aaed70937e7665461a58973fc115f846f637a40059fe95a7f6521c02fc447"
  },
  "kernelspec": {
   "display_name": "model-promotion",
   "language": "python",
   "name": "python3"
  },
  "language_info": {
   "codemirror_mode": {
    "name": "ipython",
    "version": 3
   },
   "file_extension": ".py",
   "mimetype": "text/x-python",
   "name": "python",
   "nbconvert_exporter": "python",
   "pygments_lexer": "ipython3",
   "version": "3.9.12"
  }
 },
 "nbformat": 4,
 "nbformat_minor": 2
}
